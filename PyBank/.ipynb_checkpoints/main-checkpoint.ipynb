{
 "cells": [
  {
   "cell_type": "code",
   "execution_count": null,
   "id": "806cc453-aab1-4bda-8e98-94be7e6e7eed",
   "metadata": {},
   "outputs": [],
   "source": [
    "#imports"
   ]
  },
  {
   "cell_type": "code",
   "execution_count": null,
   "id": "5326b13b-bf03-4b96-8ea7-468783886f6b",
   "metadata": {},
   "outputs": [],
   "source": []
  },
  {
   "cell_type": "code",
   "execution_count": null,
   "id": "c140d801-939f-47db-8e51-712988ac6497",
   "metadata": {},
   "outputs": [],
   "source": []
  },
  {
   "cell_type": "code",
   "execution_count": null,
   "id": "634bd4c4-7b42-4ddc-8c7b-0176e2f52370",
   "metadata": {},
   "outputs": [],
   "source": []
  },
  {
   "cell_type": "code",
   "execution_count": 1,
   "id": "4f3b0d9e-4ee7-4d02-8eed-0b985edd601a",
   "metadata": {},
   "outputs": [],
   "source": [
    "#print statements"
   ]
  },
  {
   "cell_type": "code",
   "execution_count": 6,
   "id": "592185d7-fcf8-4cf1-8922-9cb59e420d46",
   "metadata": {},
   "outputs": [
    {
     "name": "stdout",
     "output_type": "stream",
     "text": [
      "Financial Analysis\n",
      "----------------------------\n",
      "Total Months: \n",
      "Total: \n",
      "Average Change: \n",
      "Greatest Increase in Profits: \n",
      "Greatest Decrease in Profits: \n"
     ]
    }
   ],
   "source": [
    "print(\"Financial Analysis\")\n",
    "print(\"----------------------------\")\n",
    "print(\"Total Months: \")\n",
    "print(\"Total: \")\n",
    "print(\"Average Change: \")\n",
    "print(\"Greatest Increase in Profits: \")\n",
    "print(\"Greatest Decrease in Profits: \")"
   ]
  },
  {
   "cell_type": "code",
   "execution_count": null,
   "id": "225b707a-9fe8-4dca-85c5-c99b706f496d",
   "metadata": {},
   "outputs": [],
   "source": []
  }
 ],
 "metadata": {
  "kernelspec": {
   "display_name": "Python 3 (ipykernel)",
   "language": "python",
   "name": "python3"
  },
  "language_info": {
   "codemirror_mode": {
    "name": "ipython",
    "version": 3
   },
   "file_extension": ".py",
   "mimetype": "text/x-python",
   "name": "python",
   "nbconvert_exporter": "python",
   "pygments_lexer": "ipython3",
   "version": "3.7.11"
  }
 },
 "nbformat": 4,
 "nbformat_minor": 5
}
