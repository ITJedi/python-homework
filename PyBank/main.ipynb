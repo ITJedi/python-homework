{
 "cells": [
  {
   "cell_type": "code",
   "execution_count": 1,
   "id": "806cc453-aab1-4bda-8e98-94be7e6e7eed",
   "metadata": {},
   "outputs": [],
   "source": [
    "#imports\n",
    "import csv"
   ]
  },
  {
   "cell_type": "code",
   "execution_count": 2,
   "id": "5326b13b-bf03-4b96-8ea7-468783886f6b",
   "metadata": {},
   "outputs": [],
   "source": [
    "#dec vars\n",
    "total_months = 0\n",
    "total = 0\n",
    "average_change = 0\n",
    "greatest_increase_profits = 0\n",
    "greatest_decrease_profits = 0"
   ]
  },
  {
   "cell_type": "code",
   "execution_count": 21,
   "id": "c140d801-939f-47db-8e51-712988ac6497",
   "metadata": {},
   "outputs": [
    {
     "ename": "StopIteration",
     "evalue": "",
     "output_type": "error",
     "traceback": [
      "\u001b[1;31m---------------------------------------------------------------------------\u001b[0m",
      "\u001b[1;31mStopIteration\u001b[0m                             Traceback (most recent call last)",
      "\u001b[1;32m~\\AppData\\Local\\Temp/ipykernel_25972/1379844342.py\u001b[0m in \u001b[0;36m<module>\u001b[1;34m\u001b[0m\n\u001b[0;32m      8\u001b[0m     \u001b[0mtotal_months\u001b[0m \u001b[1;33m=\u001b[0m \u001b[0mlen\u001b[0m\u001b[1;33m(\u001b[0m\u001b[0mlist\u001b[0m\u001b[1;33m(\u001b[0m\u001b[0mbudget_data\u001b[0m\u001b[1;33m)\u001b[0m\u001b[1;33m)\u001b[0m \u001b[1;33m-\u001b[0m \u001b[1;36m1\u001b[0m\u001b[1;33m\u001b[0m\u001b[1;33m\u001b[0m\u001b[0m\n\u001b[0;32m      9\u001b[0m \u001b[1;33m\u001b[0m\u001b[0m\n\u001b[1;32m---> 10\u001b[1;33m     \u001b[0mbudget_data\u001b[0m \u001b[1;33m=\u001b[0m \u001b[0mnext\u001b[0m\u001b[1;33m(\u001b[0m\u001b[0mbudget_data\u001b[0m\u001b[1;33m)\u001b[0m\u001b[1;33m\u001b[0m\u001b[1;33m\u001b[0m\u001b[0m\n\u001b[0m",
      "\u001b[1;31mStopIteration\u001b[0m: "
     ]
    }
   ],
   "source": [
    "#open the csv file and doing stuff\n",
    "\n",
    "with open ('Resources/budget_data.csv', 'r') as csvfile:\n",
    "    budget_data = csv.reader(csvfile, delimiter=',')\n",
    "    \n",
    "\n",
    "    #getting total months via counting total number of rows minus header\n",
    "    total_months = len(list(budget_data)) - 1\n",
    "    \n",
    "    budget_data = next(budget_data)"
   ]
  },
  {
   "cell_type": "code",
   "execution_count": 6,
   "id": "592185d7-fcf8-4cf1-8922-9cb59e420d46",
   "metadata": {},
   "outputs": [
    {
     "name": "stdout",
     "output_type": "stream",
     "text": [
      "Financial Analysis\n",
      "----------------------------\n",
      "Total Months: 86\n",
      "Total: 0\n",
      "Average Change: 0\n",
      "Greatest Increase in Profits: 0\n",
      "Greatest Decrease in Profits: 0\n"
     ]
    }
   ],
   "source": [
    "#print statements\n",
    "print(\"Financial Analysis\")\n",
    "print(\"----------------------------\")\n",
    "print(f\"Total Months: {total_months}\")\n",
    "print(f\"Total: {total}\")\n",
    "print(f\"Average Change: {average_change}\")\n",
    "print(f\"Greatest Increase in Profits: {greatest_increase_profits}\")\n",
    "print(f\"Greatest Decrease in Profits: {greatest_decrease_profits}\")"
   ]
  },
  {
   "cell_type": "code",
   "execution_count": null,
   "id": "225b707a-9fe8-4dca-85c5-c99b706f496d",
   "metadata": {},
   "outputs": [],
   "source": []
  }
 ],
 "metadata": {
  "kernelspec": {
   "display_name": "Python 3 (ipykernel)",
   "language": "python",
   "name": "python3"
  },
  "language_info": {
   "codemirror_mode": {
    "name": "ipython",
    "version": 3
   },
   "file_extension": ".py",
   "mimetype": "text/x-python",
   "name": "python",
   "nbconvert_exporter": "python",
   "pygments_lexer": "ipython3",
   "version": "3.7.11"
  }
 },
 "nbformat": 4,
 "nbformat_minor": 5
}
