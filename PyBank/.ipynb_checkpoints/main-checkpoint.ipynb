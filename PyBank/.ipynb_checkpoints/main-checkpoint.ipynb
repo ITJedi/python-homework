{
 "cells": [
  {
   "cell_type": "code",
   "execution_count": 1,
   "id": "806cc453-aab1-4bda-8e98-94be7e6e7eed",
   "metadata": {},
   "outputs": [],
   "source": [
    "#imports\n",
    "import csv\n",
    "import pandas as pd"
   ]
  },
  {
   "cell_type": "code",
   "execution_count": 2,
   "id": "5326b13b-bf03-4b96-8ea7-468783886f6b",
   "metadata": {},
   "outputs": [],
   "source": [
    "#dec vars\n",
    "total_months = 0\n",
    "total = 0\n",
    "average_change = 0\n",
    "greatest_increase_profits = 0\n",
    "greatest_decrease_profits = 0\n"
   ]
  },
  {
   "cell_type": "code",
   "execution_count": 46,
   "id": "c140d801-939f-47db-8e51-712988ac6497",
   "metadata": {},
   "outputs": [],
   "source": [
    "#open the csv file and doing stuff\n",
    "\n",
    "with open ('Resources/budget_data.csv', 'r') as csvfile:\n",
    "    budget_data = csv.reader(csvfile, delimiter=',')\n",
    "    \n",
    "\n",
    "    #getting total months via counting total number of rows minus 1 for the header\n",
    "    total_months = len(list(budget_data)) - 1\n",
    "    \n",
    "    #seeking back to begining of file\n",
    "    csvfile.seek(0)\n",
    "    #skipping header\n",
    "    next(csvfile)\n",
    "    #summing the Profit/Losses \n",
    "    total = sum(int(r[1]) for r in budget_data)\n",
    "\n",
    "    #seeking back to begining of file\n",
    "    csvfile.seek(0)\n",
    "    #skipping header\n",
    "    next(csvfile)\n",
    "    \n",
    "    change_in_monthly_profit = []\n",
    "    previous_revenue = 0\n",
    "    \n",
    "    for row in budget_data:\n",
    "        revenue_change = int(row[1])- previous_revenue\n",
    "        previous_revenue = int(row[1])\n",
    "        change_in_monthly_profit.append(revenue_change)\n",
    "        \n",
    "    average_change = sum(change_in_monthly_profit)/total_months\n",
    "    \n",
    "    average_change = round(average_change, 2)\n",
    "    #loading data into pandas\n",
    "    data = pd.read_csv('Resources/budget_data.csv')\n",
    "    \n",
    "\n",
    "\n",
    "    #using panda to get greatest increase from csv\n",
    "    csvfile.seek(0)\n",
    "    csv_file_list = list(budget_data)\n",
    "    data_max_index = data['Profit/Losses'].idxmax()\n",
    "    greatest_increase_profits = csv_file_list[data_max_index + 1]\n",
    "    \n",
    "    #using panda to get greatest decrease\n",
    "\n",
    "\n",
    "    data_min_index = data['Profit/Losses'].idxmin()\n",
    "    greatest_decrease_profits = csv_file_list[data_min_index + 1]\n",
    "    \n",
    "   # greatest_decrease_profits = data['Profit/Losses'].min()"
   ]
  },
  {
   "cell_type": "code",
   "execution_count": 47,
   "id": "592185d7-fcf8-4cf1-8922-9cb59e420d46",
   "metadata": {},
   "outputs": [
    {
     "name": "stdout",
     "output_type": "stream",
     "text": [
      "Financial Analysis\n",
      "----------------------------\n",
      "Total Months: 86\n",
      "Total: 38382578\n",
      "Average Change: 7803.48\n",
      "Greatest Increase in Profits: Feb-2012 1170593\n",
      "Greatest Decrease in Profits: Sep-2013 -1196225\n"
     ]
    }
   ],
   "source": [
    "#print statements\n",
    "print(\"Financial Analysis\")\n",
    "print(\"----------------------------\")\n",
    "print(f\"Total Months: {total_months}\")\n",
    "print(f\"Total: {total}\")\n",
    "print(f\"Average Change: {average_change}\")\n",
    "#removing [] and , from profit print statements\n",
    "separator = \" \"\n",
    "print(\"Greatest Increase in Profits: \" + separator.join(greatest_increase_profits))\n",
    "print(\"Greatest Decrease in Profits: \" + separator.join(greatest_decrease_profits))"
   ]
  },
  {
   "cell_type": "code",
   "execution_count": null,
   "id": "225b707a-9fe8-4dca-85c5-c99b706f496d",
   "metadata": {},
   "outputs": [],
   "source": []
  }
 ],
 "metadata": {
  "kernelspec": {
   "display_name": "Python 3 (ipykernel)",
   "language": "python",
   "name": "python3"
  },
  "language_info": {
   "codemirror_mode": {
    "name": "ipython",
    "version": 3
   },
   "file_extension": ".py",
   "mimetype": "text/x-python",
   "name": "python",
   "nbconvert_exporter": "python",
   "pygments_lexer": "ipython3",
   "version": "3.7.11"
  }
 },
 "nbformat": 4,
 "nbformat_minor": 5
}
